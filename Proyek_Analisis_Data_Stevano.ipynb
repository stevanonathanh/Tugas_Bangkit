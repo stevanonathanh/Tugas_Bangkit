{
  "cells": [
    {
      "cell_type": "markdown",
      "metadata": {
        "id": "H9wADwK78DCz"
      },
      "source": [
        "# Proyek Analisis Data: [Air-quality-dataset]\n",
        "- **Nama:** [Stevano Nathan Hamtoyo]\n",
        "- **Email:** [m232b4ky4208@bangkit.academy]\n",
        "- **ID Dicoding:** [stevanonathanh]"
      ]
    },
    {
      "cell_type": "markdown",
      "metadata": {
        "id": "eE0raob58DC0"
      },
      "source": [
        "## Menentukan Pertanyaan Bisnis"
      ]
    },
    {
      "cell_type": "markdown",
      "metadata": {
        "id": "GmQeQ5YF8DC0"
      },
      "source": [
        "- Antara kota Aotizhongxin dan Changping, kota yang memiliki tingkat polusi udara tertinggi berdasarkan rata-rata indikator O3 tiap tahunnya dan tahun berapa yang memiliki kadar O3 paling baik setiap kota?\n",
        "- Setelah mengetahui tahun dengan rata-rata kadar O3 terbaik, lakukan analisis rata-rata kadar SO2 pada tahun tersebut. Apakah tahun tersebut merupakan tahun terbaik untuk setiap kota dari segi kadar SO2?"
      ]
    },
    {
      "cell_type": "markdown",
      "metadata": {
        "id": "H-z4QGlO8DC1"
      },
      "source": [
        "## Import Semua Packages/Library yang Digunakan"
      ]
    },
    {
      "cell_type": "code",
      "execution_count": 1,
      "metadata": {
        "id": "FVYwaObI8DC1"
      },
      "outputs": [
        {
          "ename": "ModuleNotFoundError",
          "evalue": "No module named 'numpy'",
          "output_type": "error",
          "traceback": [
            "\u001b[1;31m---------------------------------------------------------------------------\u001b[0m",
            "\u001b[1;31mModuleNotFoundError\u001b[0m                       Traceback (most recent call last)",
            "Cell \u001b[1;32mIn[1], line 1\u001b[0m\n\u001b[1;32m----> 1\u001b[0m \u001b[38;5;28;01mimport\u001b[39;00m \u001b[38;5;21;01mnumpy\u001b[39;00m \u001b[38;5;28;01mas\u001b[39;00m \u001b[38;5;21;01mnp\u001b[39;00m\n\u001b[0;32m      2\u001b[0m \u001b[38;5;28;01mimport\u001b[39;00m \u001b[38;5;21;01mpandas\u001b[39;00m \u001b[38;5;28;01mas\u001b[39;00m \u001b[38;5;21;01mpd\u001b[39;00m\n\u001b[0;32m      3\u001b[0m \u001b[38;5;28;01mimport\u001b[39;00m \u001b[38;5;21;01mmatplotlib\u001b[39;00m\u001b[38;5;21;01m.\u001b[39;00m\u001b[38;5;21;01mpyplot\u001b[39;00m \u001b[38;5;28;01mas\u001b[39;00m \u001b[38;5;21;01mplt\u001b[39;00m\n",
            "\u001b[1;31mModuleNotFoundError\u001b[0m: No module named 'numpy'"
          ]
        }
      ],
      "source": [
        "import numpy as np\n",
        "import pandas as pd\n",
        "import matplotlib.pyplot as plt\n",
        "import seaborn as sns"
      ]
    },
    {
      "cell_type": "markdown",
      "metadata": {
        "id": "h_Sh51Xy8DC1"
      },
      "source": [
        "## Data Wrangling"
      ]
    },
    {
      "cell_type": "markdown",
      "metadata": {
        "id": "sXU2GBYu8DC1"
      },
      "source": [
        "### Gathering Data"
      ]
    },
    {
      "cell_type": "code",
      "execution_count": 212,
      "metadata": {
        "id": "xe1f7sGo2fNl"
      },
      "outputs": [],
      "source": [
        "# Membaca file\n",
        "Aotizhongxin = pd.read_csv('/content/PRSA_Data_Aotizhongxin_20130301-20170228.csv')\n",
        "Changping = pd.read_csv('/content/PRSA_Data_Changping_20130301-20170228.csv')\n"
      ]
    },
    {
      "cell_type": "markdown",
      "metadata": {
        "id": "MMi6xGaDkbCi"
      },
      "source": [
        "**Insight:**\n",
        "- Membaca file Aotizhongxin dan membaca file Changping yang berada di content"
      ]
    },
    {
      "cell_type": "markdown",
      "metadata": {
        "id": "FHSiqaZp8DC1"
      },
      "source": [
        "### Assessing Data"
      ]
    },
    {
      "cell_type": "code",
      "execution_count": 214,
      "metadata": {
        "colab": {
          "base_uri": "https://localhost:8080/",
          "height": 0
        },
        "id": "QEqhtroP7Ij5",
        "outputId": "6e83ec35-ddfb-4895-acf8-0f66976cc280"
      },
      "outputs": [
        {
          "name": "stdout",
          "output_type": "stream",
          "text": [
            "<class 'pandas.core.frame.DataFrame'>\n",
            "RangeIndex: 35064 entries, 0 to 35063\n",
            "Data columns (total 18 columns):\n",
            " #   Column   Non-Null Count  Dtype  \n",
            "---  ------   --------------  -----  \n",
            " 0   No       35064 non-null  int64  \n",
            " 1   year     35064 non-null  int64  \n",
            " 2   month    35064 non-null  int64  \n",
            " 3   day      35064 non-null  int64  \n",
            " 4   hour     35064 non-null  int64  \n",
            " 5   PM2.5    34139 non-null  float64\n",
            " 6   PM10     34346 non-null  float64\n",
            " 7   SO2      34129 non-null  float64\n",
            " 8   NO2      34041 non-null  float64\n",
            " 9   CO       33288 non-null  float64\n",
            " 10  O3       33345 non-null  float64\n",
            " 11  TEMP     35044 non-null  float64\n",
            " 12  PRES     35044 non-null  float64\n",
            " 13  DEWP     35044 non-null  float64\n",
            " 14  RAIN     35044 non-null  float64\n",
            " 15  wd       34983 non-null  object \n",
            " 16  WSPM     35050 non-null  float64\n",
            " 17  station  35064 non-null  object \n",
            "dtypes: float64(11), int64(5), object(2)\n",
            "memory usage: 4.8+ MB\n",
            "Jumlah duplikasi:  0\n"
          ]
        }
      ],
      "source": [
        "Aotizhongxin.info()\n",
        "Aotizhongxin.isna().sum()\n",
        "print(\"Jumlah duplikasi: \", Aotizhongxin.duplicated().sum())"
      ]
    },
    {
      "cell_type": "code",
      "execution_count": 215,
      "metadata": {
        "colab": {
          "base_uri": "https://localhost:8080/",
          "height": 0
        },
        "id": "R1zYL1UQ755C",
        "outputId": "ed88117c-d8e7-4ea7-d86c-caa590258676"
      },
      "outputs": [
        {
          "name": "stdout",
          "output_type": "stream",
          "text": [
            "<class 'pandas.core.frame.DataFrame'>\n",
            "RangeIndex: 35064 entries, 0 to 35063\n",
            "Data columns (total 18 columns):\n",
            " #   Column   Non-Null Count  Dtype  \n",
            "---  ------   --------------  -----  \n",
            " 0   No       35064 non-null  int64  \n",
            " 1   year     35064 non-null  int64  \n",
            " 2   month    35064 non-null  int64  \n",
            " 3   day      35064 non-null  int64  \n",
            " 4   hour     35064 non-null  int64  \n",
            " 5   PM2.5    34290 non-null  float64\n",
            " 6   PM10     34482 non-null  float64\n",
            " 7   SO2      34436 non-null  float64\n",
            " 8   NO2      34397 non-null  float64\n",
            " 9   CO       33543 non-null  float64\n",
            " 10  O3       34460 non-null  float64\n",
            " 11  TEMP     35011 non-null  float64\n",
            " 12  PRES     35014 non-null  float64\n",
            " 13  DEWP     35011 non-null  float64\n",
            " 14  RAIN     35013 non-null  float64\n",
            " 15  wd       34924 non-null  object \n",
            " 16  WSPM     35021 non-null  float64\n",
            " 17  station  35064 non-null  object \n",
            "dtypes: float64(11), int64(5), object(2)\n",
            "memory usage: 4.8+ MB\n",
            "Jumlah duplikasi:  0\n"
          ]
        }
      ],
      "source": [
        "Changping.info()\n",
        "Changping.isna().sum()\n",
        "print(\"Jumlah duplikasi: \", Changping.duplicated().sum())"
      ]
    },
    {
      "cell_type": "markdown",
      "metadata": {
        "id": "7dtxhAPrkhPL"
      },
      "source": [
        "**Insight:**\n",
        "- Mencari duplikat yang terdapat didalam data Aotizhongxin dan Changping"
      ]
    },
    {
      "cell_type": "markdown",
      "metadata": {
        "id": "EhN5R4hr8DC1"
      },
      "source": [
        "### Cleaning Data"
      ]
    },
    {
      "cell_type": "code",
      "execution_count": 216,
      "metadata": {
        "colab": {
          "base_uri": "https://localhost:8080/",
          "height": 0
        },
        "id": "jVnYpprE9Evz",
        "outputId": "27345a40-a923-435d-a040-c5cf0be7e50a"
      },
      "outputs": [
        {
          "name": "stdout",
          "output_type": "stream",
          "text": [
            "<class 'pandas.core.frame.DataFrame'>\n",
            "Index: 31815 entries, 0 to 35063\n",
            "Data columns (total 18 columns):\n",
            " #   Column   Non-Null Count  Dtype  \n",
            "---  ------   --------------  -----  \n",
            " 0   No       31815 non-null  int64  \n",
            " 1   year     31815 non-null  int64  \n",
            " 2   month    31815 non-null  int64  \n",
            " 3   day      31815 non-null  int64  \n",
            " 4   hour     31815 non-null  int64  \n",
            " 5   PM2.5    31815 non-null  float64\n",
            " 6   PM10     31815 non-null  float64\n",
            " 7   SO2      31815 non-null  float64\n",
            " 8   NO2      31815 non-null  float64\n",
            " 9   CO       31815 non-null  float64\n",
            " 10  O3       31815 non-null  float64\n",
            " 11  TEMP     31815 non-null  float64\n",
            " 12  PRES     31815 non-null  float64\n",
            " 13  DEWP     31815 non-null  float64\n",
            " 14  RAIN     31815 non-null  float64\n",
            " 15  wd       31815 non-null  object \n",
            " 16  WSPM     31815 non-null  float64\n",
            " 17  station  31815 non-null  object \n",
            "dtypes: float64(11), int64(5), object(2)\n",
            "memory usage: 4.6+ MB\n",
            "None\n",
            "<class 'pandas.core.frame.DataFrame'>\n",
            "Index: 32681 entries, 0 to 35063\n",
            "Data columns (total 18 columns):\n",
            " #   Column   Non-Null Count  Dtype  \n",
            "---  ------   --------------  -----  \n",
            " 0   No       32681 non-null  int64  \n",
            " 1   year     32681 non-null  int64  \n",
            " 2   month    32681 non-null  int64  \n",
            " 3   day      32681 non-null  int64  \n",
            " 4   hour     32681 non-null  int64  \n",
            " 5   PM2.5    32681 non-null  float64\n",
            " 6   PM10     32681 non-null  float64\n",
            " 7   SO2      32681 non-null  float64\n",
            " 8   NO2      32681 non-null  float64\n",
            " 9   CO       32681 non-null  float64\n",
            " 10  O3       32681 non-null  float64\n",
            " 11  TEMP     32681 non-null  float64\n",
            " 12  PRES     32681 non-null  float64\n",
            " 13  DEWP     32681 non-null  float64\n",
            " 14  RAIN     32681 non-null  float64\n",
            " 15  wd       32681 non-null  object \n",
            " 16  WSPM     32681 non-null  float64\n",
            " 17  station  32681 non-null  object \n",
            "dtypes: float64(11), int64(5), object(2)\n",
            "memory usage: 4.7+ MB\n",
            "None\n"
          ]
        },
        {
          "name": "stderr",
          "output_type": "stream",
          "text": [
            "<ipython-input-216-9b8731c61d39>:8: FutureWarning: DataFrame.fillna with 'method' is deprecated and will raise in a future version. Use obj.ffill() or obj.bfill() instead.\n",
            "  Changping.fillna(method='ffill', inplace=True)\n"
          ]
        }
      ],
      "source": [
        "Aotizhongxin[Aotizhongxin.isna()]\n",
        "Aotizhongxin.dropna(axis=0, inplace=True)\n",
        "Changping[Changping.isna()]\n",
        "Changping.dropna(axis=0, inplace=True)\n",
        "print(Aotizhongxin.info())\n",
        "print(Changping.info())\n",
        "Aotizhongxin.fillna(value=0, inplace=True)\n",
        "Changping.fillna(method='ffill', inplace=True)\n",
        "Aotizhongxin.drop_duplicates(inplace=True)\n",
        "Changping.drop_duplicates(inplace=True)\n",
        "Aotizhongxin.to_csv('Aotizhongxin_cleaned.csv', index=False)\n",
        "Changping.to_csv('Changping_cleaned.csv', index=False)"
      ]
    },
    {
      "cell_type": "markdown",
      "metadata": {
        "id": "Q_5ejIqckiSP"
      },
      "source": [
        "**Insight:**\n",
        "- Mengganti nilai yang hilang dengan 0\n",
        "- Mengganti nilai yang hilang dengan nilai sebelumnya"
      ]
    },
    {
      "cell_type": "markdown",
      "metadata": {
        "id": "gp-Y6wU38DC1"
      },
      "source": [
        "## Exploratory Data Analysis (EDA)"
      ]
    },
    {
      "cell_type": "markdown",
      "metadata": {
        "id": "MW7WF2kr8DC1"
      },
      "source": [
        "### Explore ..."
      ]
    },
    {
      "cell_type": "code",
      "execution_count": 217,
      "metadata": {
        "colab": {
          "base_uri": "https://localhost:8080/",
          "height": 0
        },
        "id": "e9CQCZjk8DC2",
        "outputId": "e2123440-61b9-4fba-a427-ceb304d9668f"
      },
      "outputs": [
        {
          "name": "stdout",
          "output_type": "stream",
          "text": [
            "   year       station         O3     Kategori\n",
            "0  2013  Aotizhongxin  48.035401        Bagus\n",
            "1  2014  Aotizhongxin  49.340435        Bagus\n",
            "2  2015  Aotizhongxin  63.930616  Tidak Bagus\n",
            "3  2016  Aotizhongxin  62.609028  Tidak Bagus\n",
            "4  2017  Aotizhongxin  47.651979        Bagus\n"
          ]
        }
      ],
      "source": [
        "# Memuat dataset\n",
        "df = pd.read_csv('/content/Aotizhongxin_cleaned.csv')\n",
        "\n",
        "# Menghitung rata-rata kadar O3 per tahun kota Aotizhongxin\n",
        "o3_avg_per_year_Aotizhongxin = df.groupby(['year', 'station'])['O3'].mean().reset_index()\n",
        "\n",
        "# Menambahkan kolom baru untuk kategori \"Bagus\" atau \"Tidak Bagus\"\n",
        "o3_avg_per_year_Aotizhongxin['Kategori'] = o3_avg_per_year['O3'].apply(lambda x: 'Bagus' if x <= 50 else 'Tidak Bagus')\n",
        "\n",
        "# Menampilkan hasil dengan kategori\n",
        "print(o3_avg_per_year_Aotizhongxin)\n"
      ]
    },
    {
      "cell_type": "code",
      "execution_count": 218,
      "metadata": {
        "colab": {
          "base_uri": "https://localhost:8080/",
          "height": 0
        },
        "id": "m0O-EhYC31Le",
        "outputId": "1f0e863f-f55e-41d9-f028-ed63084997f0"
      },
      "outputs": [
        {
          "name": "stdout",
          "output_type": "stream",
          "text": [
            "   year    station         O3     Kategori\n",
            "0  2013  Changping  60.441771  Tidak Bagus\n",
            "1  2014  Changping  62.456329  Tidak Bagus\n",
            "2  2015  Changping  57.671939  Tidak Bagus\n",
            "3  2016  Changping  53.836624  Tidak Bagus\n",
            "4  2017  Changping  33.405166        Bagus\n"
          ]
        }
      ],
      "source": [
        "# Memuat dataset\n",
        "df = pd.read_csv('/content/Changping_cleaned.csv')\n",
        "\n",
        "# Menghitung rata-rata kadar O3 per tahun kota Changping\n",
        "o3_avg_per_year_changping = df.groupby(['year', 'station'])['O3'].mean().reset_index()\n",
        "\n",
        "# Menambahkan kolom baru untuk kategori \"Bagus\" atau \"Tidak Bagus\"\n",
        "o3_avg_per_year_changping['Kategori'] = o3_avg_per_year_changping['O3'].apply(lambda x: 'Bagus' if x <= 50 else 'Tidak Bagus')\n",
        "\n",
        "# Menampilkan hasil dengan kategori\n",
        "print(o3_avg_per_year_changping)\n"
      ]
    },
    {
      "cell_type": "code",
      "execution_count": 219,
      "metadata": {
        "colab": {
          "base_uri": "https://localhost:8080/",
          "height": 0
        },
        "id": "rQZs-W5VsnFm",
        "outputId": "89952a57-ac2f-45a8-9bcd-3929b081931a"
      },
      "outputs": [
        {
          "name": "stdout",
          "output_type": "stream",
          "text": [
            "   year       station        SO2 Kualitas_Udara\n",
            "0  2013  Aotizhongxin  23.180283         Sedang\n",
            "1  2014  Aotizhongxin  21.334105         Sedang\n",
            "2  2015  Aotizhongxin  14.486997           Baik\n",
            "3  2016  Aotizhongxin  10.814464           Baik\n",
            "4  2017  Aotizhongxin  20.958178         Sedang\n"
          ]
        }
      ],
      "source": [
        "# Memuat dataset\n",
        "data = pd.read_csv('/content/Aotizhongxin_cleaned.csv')\n",
        "\n",
        "# Hitung rata-rata SO2 per tahun kota Aotizhongxin\n",
        "average_so2_per_year_station_Aotizhongxin = data.groupby(['year', 'station'])['SO2'].mean().reset_index()\n",
        "\n",
        "# Menambahkan kategori kualitas udara berdasarkan SO2\n",
        "average_so2_per_year_station_Aotizhongxin['Kualitas_Udara'] = average_so2_per_year_station_Aotizhongxin['SO2'].apply(\n",
        "    lambda x: 'Baik' if x <= 20 else 'Sedang' if x <= 40 else 'Tidak Baik')\n",
        "\n",
        "# Tampilkan hasil\n",
        "print(average_so2_per_year_station_Aotizhongxin)\n"
      ]
    },
    {
      "cell_type": "code",
      "execution_count": 220,
      "metadata": {
        "colab": {
          "base_uri": "https://localhost:8080/",
          "height": 0
        },
        "id": "2ShoDJOm5uEI",
        "outputId": "98010892-1d5e-4939-d87c-da47be45eb96"
      },
      "outputs": [
        {
          "name": "stdout",
          "output_type": "stream",
          "text": [
            "   year    station        SO2 Kualitas_Udara\n",
            "0  2013  Changping  20.627632         Sedang\n",
            "1  2014  Changping  20.930534         Sedang\n",
            "2  2015  Changping  11.789714           Baik\n",
            "3  2016  Changping   8.117626           Baik\n",
            "4  2017  Changping  16.511439           Baik\n"
          ]
        }
      ],
      "source": [
        "# Memuat dataset\n",
        "data = pd.read_csv('/content/Changping_cleaned.csv')\n",
        "\n",
        "# Hitung rata-rata SO2 per tahun kota Changping\n",
        "average_so2_per_year_station_Changping = data.groupby(['year', 'station'])['SO2'].mean().reset_index()\n",
        "\n",
        "# Menambahkan kategori kualitas udara berdasarkan SO2\n",
        "average_so2_per_year_station_Changping['Kualitas_Udara'] = average_so2_per_year_station_Changping['SO2'].apply(\n",
        "    lambda x: 'Baik' if x <= 20 else 'Sedang' if x <= 40 else 'Tidak Baik')\n",
        "\n",
        "# Tampilkan hasil\n",
        "print(average_so2_per_year_station_Changping)\n"
      ]
    },
    {
      "cell_type": "markdown",
      "metadata": {
        "id": "th_Lzl2Fkj9O"
      },
      "source": [
        "**Insight:**\n",
        "- Mencari rata-rata kadar O3 pertahun pada kota Aotizhongxin dan Changping lalu mengkelompokkan menjadi bagus dan tidak bagus. Dikatakan bagus jika rata-rata kadar O3 dibawah sama dengan 50 dan lainnya jika dikatakan tidak bagus.\n",
        "- Mencari rata-rata kadar SO2 pertahun pada kota Aotizhongxin dan Changping lalu mengkelompokkan menjadi baik, sedang, dan tidak baik. Di katakan baik jika kadar rata-rata berada di bawah sama dengan 20, untuk sedang kadar rata-rata berada di bawah sama dengan 40, dan lainnya jika dikatakan tidak baik."
      ]
    },
    {
      "cell_type": "markdown",
      "metadata": {
        "id": "zsyZjqak8DC2"
      },
      "source": [
        "## Visualization & Explanatory Analysis"
      ]
    },
    {
      "cell_type": "markdown",
      "metadata": {
        "id": "HZxOiQ6n8DC2"
      },
      "source": [
        "### Pertanyaan 1:"
      ]
    },
    {
      "cell_type": "code",
      "execution_count": 221,
      "metadata": {
        "colab": {
          "base_uri": "https://localhost:8080/",
          "height": 389
        },
        "id": "-8aNYCgP4Xq_",
        "outputId": "6d4a8ed9-1cf2-4d71-ea7e-9e7904ad0e3f"
      },
      "outputs": [
        {
          "data": {
            "image/png": "[encoded data removed]",
            "text/plain": [
              "<Figure size 1400x600 with 4 Axes>"
            ]
          },
          "metadata": {},
          "output_type": "display_data"
        }
      ],
      "source": [
        "# Memuat dataset Aotizhongxin\n",
        "df_aotizhongxin = pd.read_csv('/content/Aotizhongxin_cleaned.csv')\n",
        "\n",
        "# Menghitung rata-rata kadar O3 per tahun untuk Aotizhongxin\n",
        "o3_avg_per_year_aotizhongxin = df_aotizhongxin.groupby(['year', 'station'])['O3'].mean().reset_index()\n",
        "\n",
        "# Membuat pivot table untuk heatmap Aotizhongxin\n",
        "pivot_aotizhongxin = o3_avg_per_year_aotizhongxin.pivot(index='year', columns='station', values='O3')\n",
        "\n",
        "# Memuat dataset Changping\n",
        "df_changping = pd.read_csv('/content/Changping_cleaned.csv')\n",
        "\n",
        "# Menghitung rata-rata kadar O3 per tahun untuk Changping\n",
        "o3_avg_per_year_changping = df_changping.groupby(['year', 'station'])['O3'].mean().reset_index()\n",
        "\n",
        "# Membuat pivot table untuk heatmap Changping\n",
        "pivot_changping = o3_avg_per_year_changping.pivot(index='year', columns='station', values='O3')\n",
        "\n",
        "# Menyiapkan gambar untuk plot heatmap\n",
        "fig, axes = plt.subplots(nrows=1, ncols=2, figsize=(14, 6))\n",
        "\n",
        "# Plot heatmap untuk Aotizhongxin\n",
        "sns.heatmap(pivot_aotizhongxin, ax=axes[0], cmap='coolwarm', annot=True, fmt=\".1f\")\n",
        "axes[0].set_title('Rata-rata Kadar O3 per Tahun - Aotizhongxin')\n",
        "axes[0].set_xlabel('Stasiun')\n",
        "axes[0].set_ylabel('Tahun')\n",
        "\n",
        "# Plot heatmap untuk Changping\n",
        "sns.heatmap(pivot_changping, ax=axes[1], cmap='coolwarm', annot=True, fmt=\".1f\")\n",
        "axes[1].set_title('Rata-rata Kadar O3 per Tahun - Changping')\n",
        "axes[1].set_xlabel('Stasiun')\n",
        "axes[1].set_ylabel('Tahun')\n",
        "\n",
        "# Menampilkan plot\n",
        "plt.tight_layout()\n",
        "plt.show()\n"
      ]
    },
    {
      "cell_type": "markdown",
      "metadata": {
        "id": "DgHI7CiU8DC2"
      },
      "source": [
        "### Pertanyaan 2:"
      ]
    },
    {
      "cell_type": "code",
      "execution_count": 222,
      "metadata": {
        "colab": {
          "base_uri": "https://localhost:8080/",
          "height": 537
        },
        "id": "2I8ldBAj7-At",
        "outputId": "680bfd26-f109-4f87-9042-4d58d0368452"
      },
      "outputs": [
        {
          "name": "stderr",
          "output_type": "stream",
          "text": [
            "/usr/local/lib/python3.10/dist-packages/seaborn/_base.py:949: FutureWarning: When grouping with a length-1 list-like, you will need to pass a length-1 tuple to get_group in a future version of pandas. Pass `(name,)` instead of `name` to silence this warning.\n",
            "  data_subset = grouped_data.get_group(pd_key)\n",
            "/usr/local/lib/python3.10/dist-packages/seaborn/_base.py:949: FutureWarning: When grouping with a length-1 list-like, you will need to pass a length-1 tuple to get_group in a future version of pandas. Pass `(name,)` instead of `name` to silence this warning.\n",
            "  data_subset = grouped_data.get_group(pd_key)\n",
            "/usr/local/lib/python3.10/dist-packages/seaborn/_base.py:949: FutureWarning: When grouping with a length-1 list-like, you will need to pass a length-1 tuple to get_group in a future version of pandas. Pass `(name,)` instead of `name` to silence this warning.\n",
            "  data_subset = grouped_data.get_group(pd_key)\n",
            "/usr/local/lib/python3.10/dist-packages/seaborn/_base.py:949: FutureWarning: When grouping with a length-1 list-like, you will need to pass a length-1 tuple to get_group in a future version of pandas. Pass `(name,)` instead of `name` to silence this warning.\n",
            "  data_subset = grouped_data.get_group(pd_key)\n"
          ]
        },
        {
          "data": {
            "image/png": "[encoded data removed]",
            "text/plain": [
              "<Figure size 1400x600 with 2 Axes>"
            ]
          },
          "metadata": {},
          "output_type": "display_data"
        }
      ],
      "source": [
        "# Memuat dataset Aotizhongxin\n",
        "data_aotizhongxin = pd.read_csv('/content/Aotizhongxin_cleaned.csv')\n",
        "\n",
        "# Hitung rata-rata SO2 per tahun dan stasiun untuk Aotizhongxin\n",
        "average_so2_per_year_station_aotizhongxin = data_aotizhongxin.groupby(['year', 'station'])['SO2'].mean().reset_index()\n",
        "\n",
        "# Menambahkan kategori kualitas udara berdasarkan SO2 untuk Aotizhongxin\n",
        "average_so2_per_year_station_aotizhongxin['Kualitas_Udara'] = average_so2_per_year_station_aotizhongxin['SO2'].apply(\n",
        "    lambda x: 'Baik' if x <= 20 else 'Sedang' if x <= 40 else 'Tidak Baik')\n",
        "\n",
        "# Memuat dataset Changping\n",
        "data_changping = pd.read_csv('/content/Changping_cleaned.csv')\n",
        "\n",
        "# Hitung rata-rata SO2 per tahun dan stasiun untuk Changping\n",
        "average_so2_per_year_station_changping = data_changping.groupby(['year', 'station'])['SO2'].mean().reset_index()\n",
        "\n",
        "# Menambahkan kategori kualitas udara berdasarkan SO2 untuk Changping\n",
        "average_so2_per_year_station_changping['Kualitas_Udara'] = average_so2_per_year_station_changping['SO2'].apply(\n",
        "    lambda x: 'Baik' if x <= 20 else 'Sedang' if x <= 40 else 'Tidak Baik')\n",
        "\n",
        "# Menyiapkan gambar untuk plot\n",
        "fig, axes = plt.subplots(nrows=1, ncols=2, figsize=(14, 6))\n",
        "\n",
        "# Warna untuk setiap kategori\n",
        "color_mapping = {\n",
        "    'Baik': 'green',\n",
        "    'Sedang': 'yellow',\n",
        "    'Tidak Baik': 'red'\n",
        "}\n",
        "\n",
        "# Plot SO2 untuk Aotizhongxin\n",
        "sns.barplot(data=average_so2_per_year_station_aotizhongxin, x='year', y='SO2', hue='Kualitas_Udara', palette=color_mapping, ax=axes[0])\n",
        "axes[0].set_title('Rata-rata SO2 per Tahun - Aotizhongxin')\n",
        "axes[0].set_xlabel('Tahun')\n",
        "axes[0].set_ylabel('Rata-rata SO2')\n",
        "axes[0].legend(title='Kualitas Udara')\n",
        "\n",
        "# Plot SO2 untuk Changping\n",
        "sns.barplot(data=average_so2_per_year_station_changping, x='year', y='SO2', hue='Kualitas_Udara', palette=color_mapping, ax=axes[1])\n",
        "axes[1].set_title('Rata-rata SO2 per Tahun - Changping')\n",
        "axes[1].set_xlabel('Tahun')\n",
        "axes[1].set_ylabel('Rata-rata SO2')\n",
        "axes[1].legend(title='Kualitas Udara')\n",
        "\n",
        "# Menampilkan plot\n",
        "plt.tight_layout()\n",
        "plt.show()\n"
      ]
    },
    {
      "cell_type": "markdown",
      "metadata": {
        "id": "_0-36BDLklRg"
      },
      "source": [
        "**Insight:**\n",
        "- Untuk pertanyaan pertama berhasil menemukan kota yang memiliki tingkat polusi udara tertinggi berdasarkan rata-rata indikator O3 tiap tahunnya dan berhasil untuk mencari tahun yang memiliki kadar O3 paling baik setiap kota.\n",
        "- Untuk pertanyaan kedua berhasil melakukan analisis rata-rata kadar SO2 pada tahun tersebut dan tahun tersebut belum tentu tahun terbaik untuk setiap kota dari segi kadar SO2."
      ]
    },
    {
      "cell_type": "markdown",
      "metadata": {
        "id": "9y4VUsmcYNZ5"
      },
      "source": [
        "## Analisis Lanjutan (Opsional)"
      ]
    },
    {
      "cell_type": "code",
      "execution_count": 37,
      "metadata": {
        "id": "iWhnzsJGYUCO"
      },
      "outputs": [],
      "source": []
    },
    {
      "cell_type": "markdown",
      "metadata": {
        "id": "_WeHlCeX8DC2"
      },
      "source": [
        "## Conclusion"
      ]
    },
    {
      "cell_type": "markdown",
      "metadata": {
        "id": "ZTcyR48Y8DC2"
      },
      "source": [
        "- Untuk kesimpulan pertanyaan pertama berdasarkan data yang tersedia dan analisis yang sudah dilakukan, kota yang memiliki tingkat polusi udara tertinggi berdasarkan rata-rata indikator O3 tiap tahunnya adalah kota Aotizhongxin. Untuk tahun yang memiliki kadar O3 paling baik yaitu untuk kota Aotizhongxin dan Changping berada di tahun 2017.\n",
        "- Untuk kesimpulan kedua, rata-rata kadar SO2 di setiap kota merupakan bukan yang kadar rata-rata terbaik. Rata-rata terbaik untuk kota Aotizhongxin dan Changping berada di tahun 2016"
      ]
    }
  ],
  "metadata": {
    "colab": {
      "provenance": [],
      "toc_visible": true
    },
    "kernelspec": {
      "display_name": "Python 3",
      "language": "python",
      "name": "python3"
    },
    "language_info": {
      "codemirror_mode": {
        "name": "ipython",
        "version": 3
      },
      "file_extension": ".py",
      "mimetype": "text/x-python",
      "name": "python",
      "nbconvert_exporter": "python",
      "pygments_lexer": "ipython3",
      "version": "3.10.2"
    },
    "orig_nbformat": 4,
    "vscode": {
      "interpreter": {
        "hash": "972b3bf27e332e87b5379f2791f6ef9dfc79c71018c370b0d7423235e20fe4d7"
      }
    }
  },
  "nbformat": 4,
  "nbformat_minor": 0
}
